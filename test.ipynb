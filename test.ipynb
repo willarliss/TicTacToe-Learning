{
 "cells": [
  {
   "cell_type": "code",
   "execution_count": 1,
   "metadata": {},
   "outputs": [],
   "source": [
    "import os\n",
    "\n",
    "import numpy as np\n",
    "import matplotlib.pyplot as plt\n",
    "\n",
    "import TicTacToe"
   ]
  },
  {
   "cell_type": "code",
   "execution_count": 2,
   "metadata": {},
   "outputs": [],
   "source": [
    "tictactoe = TicTacToe.TicTacToe()"
   ]
  },
  {
   "cell_type": "code",
   "execution_count": 3,
   "metadata": {},
   "outputs": [],
   "source": [
    "def train(ttt, cold=True, fname='data.csv', n=10000):\n",
    "    \"\"\"Train the computer and store memory into training data file. If cold,\n",
    "    computer starts with no prior training data. If warm, computer starts\n",
    "    with whatever memory is in trainind data\"\"\"\n",
    "        \n",
    "    if cold:\n",
    "        \n",
    "        print('S/tochastic\\n')\n",
    "        wins1 = ttt.CvC(iterations=int(0.2*n), rand=True)\n",
    "        print('Learning\\n')\n",
    "        wins2 = ttt.CvC(iterations=int(0.8*n), rand=False)\n",
    "        ttt.comp.store_dta(fname)\n",
    "        \n",
    "        wins = wins1.append(wins2, ignore_index=True)\n",
    "        x = wins.groupby(wins.index//100).sum()\n",
    "        plt.plot(x['win'])\n",
    "        plt.show()\n",
    "    \n",
    "    else:\n",
    "        \n",
    "        print('Loading...')\n",
    "        ttt.comp.load_dta(fname)\n",
    "        \n",
    "        wins = ttt.CvC(iterations=n, rand=False)\n",
    "        ttt.comp.store_dta(fname)\n",
    "        \n",
    "        x = wins.groupby(wins.index//100).sum()\n",
    "        plt.plot(x['win'][:-1])\n",
    "        plt.show()\n",
    "        "
   ]
  },
  {
   "cell_type": "code",
   "execution_count": 4,
   "metadata": {},
   "outputs": [],
   "source": [
    "def play(ttt, fname=None):\n",
    "    \"\"\"Play against the computer. For random, don't pass a training data file\n",
    "    name. For learned, pass the training data file name\"\"\"\n",
    "        \n",
    "    try:\n",
    "        print('Loading...')\n",
    "        ttt.comp.load_dta(fname)\n",
    "    except Exception as e:\n",
    "        print(e)\n",
    "    \n",
    "    ttt.PvC(rand=False)\n",
    "    \n",
    "    if fname != None:\n",
    "        ttt.comp.store_dta(fname)\n",
    "    "
   ]
  },
  {
   "cell_type": "code",
   "execution_count": 5,
   "metadata": {},
   "outputs": [],
   "source": [
    "def test(ttt, fname=None, n=10000, random=False):\n",
    "    \"\"\"Examin performace of computer without adjusting training data\"\"\"\n",
    "        \n",
    "    try:\n",
    "        print('Loading...')\n",
    "        ttt.comp.load_dta(fname)\n",
    "    except Exception as e:\n",
    "        print(e)\n",
    "    \n",
    "    wins = ttt.CvC(iterations=n, rand=random)\n",
    "    \n",
    "    x = wins.groupby(wins.index//100).sum()\n",
    "    plt.plot(x['win'][:-1])\n",
    "    plt.ylim([0,100])\n",
    "    plt.show()\n",
    "    "
   ]
  },
  {
   "cell_type": "code",
   "execution_count": null,
   "metadata": {},
   "outputs": [],
   "source": [
    "train(tictactoe, cold=True, fname='test.csv', n=1_000_000)"
   ]
  },
  {
   "cell_type": "code",
   "execution_count": null,
   "metadata": {},
   "outputs": [],
   "source": [
    "#test(tictactoe, fname='test.csv', random=False, n=1000)\n",
    "test(tictactoe, random=False, n=1000)"
   ]
  },
  {
   "cell_type": "code",
   "execution_count": null,
   "metadata": {
    "scrolled": true
   },
   "outputs": [],
   "source": [
    "#play(tictactoe, fname='test.csv')\n",
    "play(tictactoe)"
   ]
  },
  {
   "cell_type": "code",
   "execution_count": null,
   "metadata": {},
   "outputs": [],
   "source": [
    "transition = tictactoe.comp.transition_matrix()\n",
    "len(transition)"
   ]
  },
  {
   "cell_type": "code",
   "execution_count": null,
   "metadata": {},
   "outputs": [],
   "source": [
    "for i in transition:\n",
    "    print(i)\n",
    "    print(transition[i])\n",
    "    print()\n",
    "    break"
   ]
  },
  {
   "cell_type": "code",
   "execution_count": null,
   "metadata": {},
   "outputs": [],
   "source": []
  }
 ],
 "metadata": {
  "kernelspec": {
   "display_name": "Python 3",
   "language": "python",
   "name": "python3"
  },
  "language_info": {
   "codemirror_mode": {
    "name": "ipython",
    "version": 3
   },
   "file_extension": ".py",
   "mimetype": "text/x-python",
   "name": "python",
   "nbconvert_exporter": "python",
   "pygments_lexer": "ipython3",
   "version": "3.7.9"
  }
 },
 "nbformat": 4,
 "nbformat_minor": 4
}
